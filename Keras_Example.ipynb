{
  "nbformat": 4,
  "nbformat_minor": 0,
  "metadata": {
    "colab": {
      "name": "Untitled1.ipynb",
      "version": "0.3.2",
      "provenance": [],
      "include_colab_link": true
    },
    "kernelspec": {
      "name": "python3",
      "display_name": "Python 3"
    }
  },
  "cells": [
    {
      "cell_type": "markdown",
      "metadata": {
        "id": "view-in-github",
        "colab_type": "text"
      },
      "source": [
        "<a href=\"https://colab.research.google.com/github/Vazid546/TestGit/blob/master/Keras_Example.ipynb\" target=\"_parent\"><img src=\"https://colab.research.google.com/assets/colab-badge.svg\" alt=\"Open In Colab\"/></a>"
      ]
    },
    {
      "metadata": {
        "id": "3aEHx6-BBqlR",
        "colab_type": "code",
        "colab": {}
      },
      "cell_type": "code",
      "source": [
        "import keras\n",
        "import numpy as np\n",
        "from keras.datasets import mnist\n",
        "import sys"
      ],
      "execution_count": 0,
      "outputs": []
    },
    {
      "metadata": {
        "id": "RWacnDWNFDHm",
        "colab_type": "code",
        "colab": {}
      },
      "cell_type": "code",
      "source": [
        "def to_categorical(y,nb_classes):\n",
        "  output = []\n",
        "  for i in y:\n",
        "    temp = np.zeros(nb_classes)\n",
        "    temp[i] = 1\n",
        "    output.append(temp)\n",
        "  output = np.array(output)\n",
        "  output = output.reshape(y.shape[0],nb_classes)\n",
        "  return output"
      ],
      "execution_count": 0,
      "outputs": []
    },
    {
      "metadata": {
        "id": "87SdUDJQFIqF",
        "colab_type": "code",
        "colab": {}
      },
      "cell_type": "code",
      "source": [
        "def init(dim):\n",
        "  W = np.random.randn(nb_classes,dim)*0.01\n",
        "  b = np.random.randn(nb_classes,1)\n",
        "  return W,b"
      ],
      "execution_count": 0,
      "outputs": []
    },
    {
      "metadata": {
        "id": "bZ6CZwyPFK-N",
        "colab_type": "code",
        "colab": {}
      },
      "cell_type": "code",
      "source": [
        "def sigmoid(X):\n",
        "    return 1 / (1 + np.exp(-X))"
      ],
      "execution_count": 0,
      "outputs": []
    },
    {
      "metadata": {
        "id": "GuQe2G-tFO2l",
        "colab_type": "code",
        "colab": {}
      },
      "cell_type": "code",
      "source": [
        "def forward_propagate(W,b,x):\n",
        "  linear_transformation = np.dot(W,np.transpose(x)) + (b)\n",
        "  output = sigmoid(linear_transformation)\n",
        "  return output"
      ],
      "execution_count": 0,
      "outputs": []
    },
    {
      "metadata": {
        "id": "xRw1sFXfFRKa",
        "colab_type": "code",
        "colab": {}
      },
      "cell_type": "code",
      "source": [
        "def mean_square_loss(y_train,output,batch_size):\n",
        "  loss = np.sum(np.multiply((np.transpose(y_train) - output),(np.transpose(y_train) - output))/2,axis=1,keepdims=True)/batch_size\n",
        "  return loss"
      ],
      "execution_count": 0,
      "outputs": []
    },
    {
      "metadata": {
        "id": "02MRN1MLFTiM",
        "colab_type": "code",
        "colab": {}
      },
      "cell_type": "code",
      "source": [
        "def backward_propagate(x_train,y_train,output,W,b,learning_rate,batch_size):\n",
        "  m=batch_size\n",
        "  dy = np.sum((output - np.transpose(y_train)), axis = 1, keepdims =True)\n",
        "  ds = sigmoid(output)*(1 - sigmoid(output))\n",
        "  dz = np.multiply(dy,ds)\n",
        "  dW = 1/float(m) * np.dot(dz,x_train)\n",
        "  db = 1/float(m) * np.sum(dz,axis=1,keepdims=True)\n",
        "  W = W - learning_rate*dW\n",
        "  b = b - learning_rate*db\n",
        "  return W,b"
      ],
      "execution_count": 0,
      "outputs": []
    },
    {
      "metadata": {
        "id": "xuxrcFwFFWtF",
        "colab_type": "code",
        "colab": {}
      },
      "cell_type": "code",
      "source": [
        "def sgd(W,b,x_train,y_train,learning_rate,batch_size,epochs):\n",
        "  for j in range(epochs):\n",
        "    for i in range(0, x_train.shape[0], batch_size):\n",
        "      x_train_mini = x_train[i:i+batch_size]\n",
        "      y_train_mini = y_train[i:i+batch_size]\n",
        "      output = forward_propagate(W,b,x_train_mini)\n",
        "      W,b = backward_propagate(x_train_mini,y_train_mini,output,W,b,learning_rate,batch_size)\n",
        "\n",
        "  return W,b"
      ],
      "execution_count": 0,
      "outputs": []
    },
    {
      "metadata": {
        "id": "g-LkBegjBxoL",
        "colab_type": "code",
        "colab": {}
      },
      "cell_type": "code",
      "source": [
        "def predict(W, b, X, Y):\n",
        "    m = Y.shape[0]\n",
        "    Y_prediction = forward_propagate(W,b,X)\n",
        "    Y_prediction = Y_prediction.T\n",
        "    outputlist=[]\n",
        "    for i in range(m):\n",
        "        outputlist.append(np.argmax(Y_prediction[i]))\n",
        "    count = 0\n",
        "    for i in range(m):\n",
        "        if outputlist[i] == Y[i]:\n",
        "            count +=1\n",
        "    return count/100"
      ],
      "execution_count": 0,
      "outputs": []
    },
    {
      "metadata": {
        "id": "6bJUfPWFE--6",
        "colab_type": "code",
        "colab": {}
      },
      "cell_type": "code",
      "source": [
        "learning_rate = 0.005\n",
        "batch_size = 8\n",
        "experiments = 20\n",
        "nb_classes=10"
      ],
      "execution_count": 0,
      "outputs": []
    },
    {
      "metadata": {
        "id": "fSYPuR8dBz93",
        "colab_type": "code",
        "colab": {
          "base_uri": "https://localhost:8080/",
          "height": 34
        },
        "outputId": "8dec8059-9094-4f86-df18-4b10f9f5a550"
      },
      "cell_type": "code",
      "source": [
        "(x_train, y_train), (x_test, y_test) = mnist.load_data()\n",
        "\n",
        "x_train = x_train.reshape(x_train.shape[0],x_train.shape[1]*x_train.shape[2])\n",
        "x_test = x_test.reshape(x_test.shape[0],x_test.shape[1]*x_test.shape[2])\n",
        "\n",
        "y_actual_testdata = y_test\n",
        "\n",
        "y_train = to_categorical(y_train,nb_classes)\n",
        "y_test = to_categorical(y_test,nb_classes)\n",
        "\n",
        "x_train = x_train.astype('float32')\n",
        "x_test = x_test.astype('float32')\n",
        "\n",
        "\n",
        "x_train /= 255\n",
        "x_test /= 255\n",
        "W,b = init(x_train.shape[1])\n",
        "W,b = sgd(W,b,x_train,y_train,learning_rate,batch_size,experiments)\n",
        "\n",
        "acc = predict(W,b,x_test,y_actual_testdata)\n",
        "print(\"Accuracy: {}\".format(acc))"
      ],
      "execution_count": 16,
      "outputs": [
        {
          "output_type": "stream",
          "text": [
            "Accuracy: 89.73\n"
          ],
          "name": "stdout"
        }
      ]
    }
  ]
}